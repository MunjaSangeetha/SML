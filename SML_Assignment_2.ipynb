{
  "nbformat": 4,
  "nbformat_minor": 0,
  "metadata": {
    "colab": {
      "provenance": [],
      "authorship_tag": "ABX9TyP3utB2tcBQ7DUo8dVDLpuj",
      "include_colab_link": true
    },
    "kernelspec": {
      "name": "python3",
      "display_name": "Python 3"
    },
    "language_info": {
      "name": "python"
    }
  },
  "cells": [
    {
      "cell_type": "markdown",
      "metadata": {
        "id": "view-in-github",
        "colab_type": "text"
      },
      "source": [
        "<a href=\"https://colab.research.google.com/github/MunjaSangeetha/SML/blob/main/SML_Assignment_2.ipynb\" target=\"_parent\"><img src=\"https://colab.research.google.com/assets/colab-badge.svg\" alt=\"Open In Colab\"/></a>"
      ]
    },
    {
      "cell_type": "markdown",
      "source": [
        "2303A52088\n",
        "M.Sangeetha"
      ],
      "metadata": {
        "id": "eADHGyx5kzNf"
      }
    },
    {
      "cell_type": "markdown",
      "source": [
        "Assignment - 2"
      ],
      "metadata": {
        "id": "MuGa1GsRaEyO"
      }
    },
    {
      "cell_type": "code",
      "source": [
        "#1"
      ],
      "metadata": {
        "id": "k9H-oDnAaLW0"
      },
      "execution_count": null,
      "outputs": []
    },
    {
      "cell_type": "code",
      "source": [
        "import numpy as np\n",
        "import pandas as pd\n",
        "from scipy import stats\n",
        "import matplotlib.pyplot as plt\n",
        "\n",
        "# Define the dataset\n",
        "data = np.array([1.3, 1.5, 2.6, 2.6, 3.2, 3.9, 4.2, 3.7, 3.10, 3.0, 11, 6.7, 1.9])\n",
        "\n",
        "# Compute histogram\n",
        "hist, bin_edges = np.histogram(data, bins=5, density=True)\n",
        "\n",
        "# Plot histogram\n",
        "plt.figure(figsize=(10, 6))\n",
        "plt.hist(data, bins=5, density=True, alpha=0.6, color='b', edgecolor='black')\n",
        "plt.title('Histogram of Data with Density')\n",
        "plt.xlabel('Value')\n",
        "plt.ylabel('Density')\n",
        "plt.grid(True)\n",
        "plt.show()\n",
        "\n",
        "# Print histogram density values\n",
        "print(\"Histogram density values:\", hist)\n",
        "print(\"Bin edges:\", bin_edges)\n"
      ],
      "metadata": {
        "colab": {
          "base_uri": "https://localhost:8080/",
          "height": 599
        },
        "id": "zj4vw075YCvq",
        "outputId": "60c07cc0-15a0-4c23-8cfa-4365ccaa2e13"
      },
      "execution_count": null,
      "outputs": [
        {
          "output_type": "display_data",
          "data": {
            "text/plain": [
              "<Figure size 1000x600 with 1 Axes>"
            ],
            "image/png": "[encoded data removed]"
          },
          "metadata": {}
        },
        {
          "output_type": "stream",
          "name": "stdout",
          "text": [
            "Histogram density values: [0.31720856 0.11895321 0.03965107 0.         0.03965107]\n",
            "Bin edges: [ 1.3   3.24  5.18  7.12  9.06 11.  ]\n"
          ]
        }
      ]
    },
    {
      "cell_type": "code",
      "execution_count": null,
      "metadata": {
        "colab": {
          "base_uri": "https://localhost:8080/"
        },
        "id": "GWPXRUvRJ_4x",
        "outputId": "7ce305e0-4f6a-4136-ab80-d81b6cabd5c7"
      },
      "outputs": [
        {
          "output_type": "stream",
          "name": "stdout",
          "text": [
            "Mean: 3.75\n",
            "Median: 3.10\n",
            "Variance: 6.66\n",
            "Standard Deviation: 2.58\n",
            "Range: 9.70\n",
            "Interquartile Range (IQR): 1.30\n",
            "Skewness: 1.87\n",
            "Kurtosis: 2.95\n"
          ]
        }
      ],
      "source": [
        "\n",
        "#2.\n",
        "import numpy as np\n",
        "import pandas as pd\n",
        "from scipy import stats\n",
        "import matplotlib.pyplot as plt\n",
        "# Example dataset\n",
        "data = np.array([1.3, 1.5, 2.6, 2.6, 3.2, 3.9, 4.2, 3.7, 3.10, 3.0, 11, 6.7, 1.9])\n",
        "# Mean\n",
        "mean_value = np.mean(data)\n",
        "\n",
        "# Median\n",
        "median_value = np.median(data)\n",
        "\n",
        "# Mode\n",
        "mode_value, mode_count = stats.mode(data)\n",
        "\n",
        "# Variance\n",
        "variance_value = np.var(data, ddof=1)  # Sample variance (ddof=1)\n",
        "\n",
        "# Standard Deviation\n",
        "std_dev_value = np.std(data, ddof=1)  # Sample standard deviation (ddof=1)\n",
        "\n",
        "# Range\n",
        "range_value = np.ptp(data)\n",
        "# Interquartile Range (IQR)\n",
        "q75, q25 = np.percentile(data, [75, 25])\n",
        "iqr_value = q75 - q25\n",
        "\n",
        "# Skewness\n",
        "skewness_value = stats.skew(data)\n",
        "\n",
        "# Kurtosis\n",
        "kurtosis_value = stats.kurtosis(data)\n",
        "\n",
        "# Display the results\n",
        "print(f\"Mean: {mean_value:.2f}\")\n",
        "print(f\"Median: {median_value:.2f}\")\n",
        "print(f\"Variance: {variance_value:.2f}\")\n",
        "print(f\"Standard Deviation: {std_dev_value:.2f}\")\n",
        "print(f\"Range: {range_value:.2f}\")\n",
        "print(f\"Interquartile Range (IQR): {iqr_value:.2f}\")\n",
        "print(f\"Skewness: {skewness_value:.2f}\")\n",
        "print(f\"Kurtosis: {kurtosis_value:.2f}\")\n",
        "\n"
      ]
    },
    {
      "cell_type": "code",
      "source": [
        "#3."
      ],
      "metadata": {
        "id": "DzQZ768GaRI9"
      },
      "execution_count": null,
      "outputs": []
    },
    {
      "cell_type": "code",
      "source": [
        "import numpy as np\n",
        "import pandas as pd\n",
        "from scipy.stats import skew, kurtosis\n",
        "\n",
        "# Data\n",
        "x = np.array([12, 51, 13, 63, 56, 37, 23, 88, 41, 33, 28, 72, 51, 81])\n",
        "y = np.array([12, 51, 13, 63, 56, 37, 23, 88, 41, 33, 28, 72, 51, 81])\n",
        "\n",
        "# Create a DataFrame\n",
        "df = pd.DataFrame({'x': x, 'y': y})\n",
        "\n",
        "# Define the statistical measures function\n",
        "def compute_statistics(data):\n",
        "    return {\n",
        "        'Mean': np.mean(data),\n",
        "        'Median': np.median(data),\n",
        "        'Mode': pd.Series(data).mode().values,\n",
        "        'Variance': np.var(data, ddof=1),\n",
        "        'Standard Deviation': np.std(data, ddof=1),\n",
        "        'Range': np.max(data) - np.min(data),\n",
        "        'Interquartile Range (IQR)': np.percentile(data, 75) - np.percentile(data, 25),\n",
        "        'Skewness': skew(data),\n",
        "        'Kurtosis': kurtosis(data)\n",
        "    }\n",
        "\n",
        "# Compute statistics for each feature\n",
        "feature_stats = {}\n",
        "for column in df.columns:\n",
        "    feature_stats[column] = compute_statistics(df[column].values)\n",
        "\n",
        "# Print statistics for each feature\n",
        "for feature, stats in feature_stats.items():\n",
        "    print(f\"Statistics for {feature}:\")\n",
        "    for key, value in stats.items():\n",
        "        print(f\"{key}: {value}\")\n",
        "    print()\n"
      ],
      "metadata": {
        "colab": {
          "base_uri": "https://localhost:8080/"
        },
        "id": "dXkM3pKJZmaR",
        "outputId": "eda1dbfd-53fc-49ac-9bd4-0968473ccff1"
      },
      "execution_count": null,
      "outputs": [
        {
          "output_type": "stream",
          "name": "stdout",
          "text": [
            "Statistics for x:\n",
            "Mean: 46.357142857142854\n",
            "Median: 46.0\n",
            "Mode: [51]\n",
            "Variance: 575.0164835164835\n",
            "Standard Deviation: 23.979501319178503\n",
            "Range: 76\n",
            "Interquartile Range (IQR): 32.0\n",
            "Skewness: 0.21073870028867528\n",
            "Kurtosis: -0.9833448564278537\n",
            "\n",
            "Statistics for y:\n",
            "Mean: 46.357142857142854\n",
            "Median: 46.0\n",
            "Mode: [51]\n",
            "Variance: 575.0164835164835\n",
            "Standard Deviation: 23.979501319178503\n",
            "Range: 76\n",
            "Interquartile Range (IQR): 32.0\n",
            "Skewness: 0.21073870028867528\n",
            "Kurtosis: -0.9833448564278537\n",
            "\n"
          ]
        }
      ]
    }
  ]
}