{
  "nbformat": 4,
  "nbformat_minor": 0,
  "metadata": {
    "colab": {
      "provenance": [],
      "toc_visible": true,
      "authorship_tag": "ABX9TyMU1+YKIwZIoh3c/W063U81",
      "include_colab_link": true
    },
    "kernelspec": {
      "name": "python3",
      "display_name": "Python 3"
    },
    "language_info": {
      "name": "python"
    }
  },
  "cells": [
    {
      "cell_type": "markdown",
      "metadata": {
        "id": "view-in-github",
        "colab_type": "text"
      },
      "source": [
        "<a href=\"https://colab.research.google.com/github/MunjaSangeetha/SML/blob/main/SML_Assignment_1pynb.ipynb\" target=\"_parent\"><img src=\"https://colab.research.google.com/assets/colab-badge.svg\" alt=\"Open In Colab\"/></a>"
      ]
    },
    {
      "cell_type": "markdown",
      "source": [
        "Assignment - 1"
      ],
      "metadata": {
        "id": "SD78dL2xiG8x"
      }
    },
    {
      "cell_type": "markdown",
      "source": [
        "Hall ticket Number - 2303A52088\n",
        "Name - M.Sangeetha"
      ],
      "metadata": {
        "id": "L-ZqQHHPh3pB"
      }
    },
    {
      "cell_type": "code",
      "source": [
        "# Question 1"
      ],
      "metadata": {
        "id": "ODrDWWIchxUD"
      },
      "execution_count": null,
      "outputs": []
    },
    {
      "cell_type": "code",
      "execution_count": null,
      "metadata": {
        "colab": {
          "base_uri": "https://localhost:8080/",
          "height": 524
        },
        "id": "8OaotmtIQk9I",
        "outputId": "8d2c51c3-186a-4a3c-b19d-f7a51f7bb5e3"
      },
      "outputs": [
        {
          "output_type": "stream",
          "name": "stdout",
          "text": [
            "Bin edges: [ 1.3   3.24  5.18  7.12  9.06 11.  ]\n",
            "Counts (density values): [0.30068729 0.12886598 0.04295533 0.         0.04295533]\n",
            "Density values adjusted for bin width: [0.58333333 0.25       0.08333333 0.         0.08333333]\n"
          ]
        },
        {
          "output_type": "display_data",
          "data": {
            "text/plain": [
              "<Figure size 640x480 with 1 Axes>"
            ],
            "image/png": "[encoded data removed]"
          },
          "metadata": {}
        }
      ],
      "source": [
        "import numpy as np\n",
        "import matplotlib.pyplot as plt\n",
        "\n",
        "#Given dataset\n",
        "X = [1.3,1.5,2.6,2.6,3.2,3.9,4.2,3.7,3.10,11,6.7,1.9]\n",
        "\n",
        "#Number of bins\n",
        "num_bins = 5\n",
        "\n",
        "# Compute the histogram\n",
        "counts, bin_edges = np.histogram(X, bins=num_bins, density=True)\n",
        "\n",
        "#Calcute the width of each bin\n",
        "bin_widths = np.diff(bin_edges)\n",
        "\n",
        "#Calcute the density of each bin\n",
        "density = counts * bin_widths\n",
        "\n",
        "# Print the bin edges, counts, and density\n",
        "\n",
        "print(\"Bin edges:\", bin_edges)\n",
        "\n",
        "print(\"Counts (density values):\", counts)\n",
        "\n",
        "print(\"Density values adjusted for bin width:\", density)\n",
        "\n",
        "#Plot the histogram\n",
        "\n",
        "plt.hist(X, bins=num_bins, density=True, edgecolor='black')\n",
        "\n",
        "plt.xlabel('Data')\n",
        "\n",
        "plt.ylabel('Density')\n",
        "\n",
        "plt.title('Histogram with Density')\n",
        "\n",
        "plt.show()"
      ]
    },
    {
      "cell_type": "code",
      "source": [
        "#Question - 2"
      ],
      "metadata": {
        "id": "LOs_SOtwizJd"
      },
      "execution_count": null,
      "outputs": []
    },
    {
      "cell_type": "code",
      "source": [
        "import numpy as np\n",
        "import matplotlib.pyplot as plt\n",
        "dependent_variable=[4,5,8,2,4,2,5]\n",
        "independent_variable=[5,6,3,8,3,7,8]\n",
        "#mean\n",
        "mean_x=np.mean(independent_variable)\n",
        "mean_y=np.mean(dependent_variable)\n",
        "print(\"mean of x:\",mean_x)\n",
        "print(\"mean of y:\",mean_y)\n",
        "#median\n",
        "median_x=np.median(independent_variable)\n",
        "median_y=np.median(dependent_variable)\n",
        "print(\"median of x:\",median_x)\n",
        "print(\"median of y:\",median_y)\n",
        "#mode\n",
        "from scipy import stats\n",
        "mode_x=stats.mode(independent_variable)\n",
        "mode_y=stats.mode(dependent_variable)\n",
        "print(\"mode of x:\",mode_x)\n",
        "print(\"mode of y:\",mode_y)\n",
        "#variance\n",
        "var_x=np.var(independent_variable)\n",
        "var_y=np.var(dependent_variable)\n",
        "print(\"variance of x:\",var_x)\n",
        "print(\"variance of y:\",var_y)\n",
        "#standard deviation\n",
        "std_x=np.std(independent_variable)\n",
        "std_y=np.std(dependent_variable)\n",
        "print(\"standard deviation of x:\",std_x)\n",
        "print(\"standard deviation of y:\",std_y)\n",
        "#Range\n",
        "range_x=np.max(independent_variable)-np.min(independent_variable)\n",
        "range_y=np.max(dependent_variable)-np.min(dependent_variable)\n",
        "print(\"range of x:\",range_x)\n",
        "print(\"range of y:\",range_y)\n",
        "#interQuartile(IQR)\n",
        "q1_x=np.percentile(independent_variable,25)\n",
        "q3_x=np.percentile(independent_variable,75)\n",
        "iqr_x=q3_x-q1_x\n",
        "print(\"interquartile range of x:\",iqr_x)\n",
        "q1_y=np.percentile(dependent_variable,25)\n",
        "q3_y=np.percentile(dependent_variable,75)\n",
        "iqr_y=q3_y-q1_y\n",
        "print(\"interquartile range of y:\",iqr_y)\n",
        "#Skewness\n",
        "skew_x=stats.skew(independent_variable)\n",
        "skew_y=stats.skew(dependent_variable)\n",
        "print(\"skewness of x:\",skew_x)\n",
        "print(\"skewness of y:\",skew_y)\n",
        "#Kurtosis\n",
        "kurt_x=stats.kurtosis(independent_variable)\n",
        "kurt_y=stats.kurtosis(dependent_variable)\n",
        "print(\"kurtosis of x:\",kurt_x)\n",
        "print(\"kurtosis of y:\",kurt_y)\n"
      ],
      "metadata": {
        "colab": {
          "base_uri": "https://localhost:8080/"
        },
        "id": "FH9QGNK-jZTo",
        "outputId": "dc351b76-dddb-49ab-ec57-75dbf7bcd05e"
      },
      "execution_count": 1,
      "outputs": [
        {
          "output_type": "stream",
          "name": "stdout",
          "text": [
            "mean of x: 5.714285714285714\n",
            "mean of y: 4.285714285714286\n",
            "median of x: 6.0\n",
            "median of y: 4.0\n",
            "mode of x: ModeResult(mode=3, count=2)\n",
            "mode of y: ModeResult(mode=2, count=2)\n",
            "variance of x: 3.918367346938776\n",
            "variance of y: 3.6326530612244894\n",
            "standard deviation of x: 1.979486637221574\n",
            "standard deviation of y: 1.9059520091609048\n",
            "range of x: 5\n",
            "range of y: 6\n",
            "interquartile range of x: 3.5\n",
            "interquartile range of y: 2.0\n",
            "skewness of x: -0.26386711521557127\n",
            "skewness of y: 0.5785710902698393\n",
            "kurtosis of x: -1.4541015625000002\n",
            "kurtosis of y: -0.34282287589950755\n"
          ]
        }
      ]
    },
    {
      "cell_type": "code",
      "source": [
        "#Question - 3"
      ],
      "metadata": {
        "id": "SmNVwgVDjgcB"
      },
      "execution_count": null,
      "outputs": []
    },
    {
      "cell_type": "code",
      "source": [
        "import numpy as np\n",
        "import matplotlib.pyplot\n",
        "x=[2.3,2.5,3.6,2.8,3.1,2.9,3.2,2.7,2.8,3.0]\n",
        "#mean\n",
        "mean_x=np.mean(x)\n",
        "print(\"mean of x:\",mean_x)\n",
        "#median\n",
        "median_x=np.median(x)\n",
        "print(\"median of x:\",median_x)\n",
        "#mode\n",
        "from scipy import stats\n",
        "mode_x=stats.mode(x)\n",
        "print(\"mode of x:\",mode_x)\n",
        "#variance\n",
        "var_x=np.var(x)\n",
        "print(\"variance of x:\",var_x)\n",
        "#standard deviation\n",
        "std_x=np.std(x)\n",
        "print(\"standard deviation of x:\",std_x)\n",
        "#Range\n",
        "range_x=np.max(x)-np.min(x)\n",
        "print(\"range of x:\",range_x)\n",
        "#interquatile(IQR)\n",
        "q1_x=np.percentile(x,25)\n",
        "q3_x=np.percentile(x,75)\n",
        "iqr_x=q3_x-q1_x\n",
        "print(\"interquartile range of x:\",iqr_x)\n",
        "#Skewness\n",
        "skew_x=stats.skew(x)\n",
        "print(\"skewness of x:\",skew_x)\n",
        "#Kurtosis\n",
        "kurt_x=stats.kurtosis(x)\n",
        "print(\"kurtosis of x:\",kurt_x)\n"
      ],
      "metadata": {
        "colab": {
          "base_uri": "https://localhost:8080/"
        },
        "id": "RrUvb8OUjkEV",
        "outputId": "ac82ae9f-fc9d-4f6a-f262-6156a0459888"
      },
      "execution_count": 2,
      "outputs": [
        {
          "output_type": "stream",
          "name": "stdout",
          "text": [
            "mean of x: 2.89\n",
            "median of x: 2.8499999999999996\n",
            "mode of x: ModeResult(mode=2.8, count=2)\n",
            "variance of x: 0.12090000000000005\n",
            "standard deviation of x: 0.3477067730142743\n",
            "range of x: 1.3000000000000003\n",
            "interquartile range of x: 0.3500000000000001\n",
            "skewness of x: 0.2980178611012123\n",
            "kurtosis of x: -0.18689850931906538\n"
          ]
        }
      ]
    }
  ]
}